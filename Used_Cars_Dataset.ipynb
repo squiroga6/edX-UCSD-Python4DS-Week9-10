{
 "cells": [
  {
   "cell_type": "markdown",
   "metadata": {},
   "source": [
    "# UC SD Micromasters - Python for Data Science\n",
    "# Craigslist Used Cars Dataset\n",
    "\n"
   ]
  },
  {
   "cell_type": "code",
   "execution_count": 1,
   "metadata": {},
   "outputs": [],
   "source": [
    "# import required libraries\n",
    "import pandas as pd\n",
    "import numpy as np\n",
    "import seaborn as sns\n",
    "import matplotlib.pyplot as plt"
   ]
  },
  {
   "cell_type": "markdown",
   "metadata": {},
   "source": [
    "## Import and read dataset\n",
    "\n",
    "First, look at downloaded file from https://www.kaggle.com/austinreese/craigslist-carstrucks-data/download."
   ]
  },
  {
   "cell_type": "code",
   "execution_count": null,
   "metadata": {},
   "outputs": [],
   "source": [
    "from subprocess import check_output\n",
    "print(check_output([\"ls\", \"./data\"]).decode(\"utf8\"))"
   ]
  },
  {
   "cell_type": "markdown",
   "metadata": {},
   "source": [
    "Unzip the file and extract into the data folder."
   ]
  },
  {
   "cell_type": "code",
   "execution_count": null,
   "metadata": {},
   "outputs": [],
   "source": [
    "# how to from https://www.kaggle.com/mchirico/how-to-read-datasets\n",
    "import zipfile\n",
    "Dataset = \"craigslist-carstrucks-data\"\n",
    "\n",
    "with zipfile.ZipFile(\"./data/\"+Dataset+\".zip\",\"r\") as z:\n",
    "    z.extractall(\"./data\")"
   ]
  },
  {
   "cell_type": "markdown",
   "metadata": {},
   "source": [
    "Import data as pandas dataframe."
   ]
  },
  {
   "cell_type": "code",
   "execution_count": 2,
   "metadata": {},
   "outputs": [],
   "source": [
    "cars_raw = pd.read_csv(\"./data/vehicles.csv\")"
   ]
  },
  {
   "cell_type": "code",
   "execution_count": null,
   "metadata": {},
   "outputs": [],
   "source": [
    "# dataframe shape\n",
    "print(\"Number of rows:\",cars_raw.shape[0])\n",
    "print()\n",
    "print(\"Number of columns\",cars_raw.shape[1])"
   ]
  },
  {
   "cell_type": "markdown",
   "metadata": {},
   "source": [
    "## Clean data set\n",
    "\n",
    "Remove unnecessary columns and null values. Let's look at the proportion of no-null values as percent of total number of rows. This will give us an idea of which variables contain actual data vs those that are mostly `NULL`"
   ]
  },
  {
   "cell_type": "code",
   "execution_count": null,
   "metadata": {},
   "outputs": [],
   "source": [
    "no_null_prc = (cars_raw.count()/len(cars_raw)).round(2)*100\n",
    "no_null_prc"
   ]
  },
  {
   "cell_type": "markdown",
   "metadata": {},
   "source": [
    "Select columns of interest that have greater than 80% of actual data."
   ]
  },
  {
   "cell_type": "code",
   "execution_count": null,
   "metadata": {},
   "outputs": [],
   "source": [
    "cols_to_use = list(no_null_prc[no_null_prc>=80].index)\n",
    "cols_to_use"
   ]
  },
  {
   "cell_type": "markdown",
   "metadata": {},
   "source": [
    "Remove the first 4 columns: these columns only contain the id and other url information. Not needed for this analysis."
   ]
  },
  {
   "cell_type": "code",
   "execution_count": null,
   "metadata": {},
   "outputs": [],
   "source": [
    "cols_not_needed = list(cars_raw.columns[0:4])\n",
    "cols_not_needed.extend(['description','image_url'])\n",
    "cols_not_needed"
   ]
  },
  {
   "cell_type": "code",
   "execution_count": 3,
   "metadata": {},
   "outputs": [
    {
     "output_type": "error",
     "ename": "NameError",
     "evalue": "name 'cols_to_use' is not defined",
     "traceback": [
      "\u001b[1;31m---------------------------------------------------------------------------\u001b[0m",
      "\u001b[1;31mNameError\u001b[0m                                 Traceback (most recent call last)",
      "\u001b[1;32m<ipython-input-3-52013840b332>\u001b[0m in \u001b[0;36m<module>\u001b[1;34m\u001b[0m\n\u001b[1;32m----> 1\u001b[1;33m \u001b[0mcars\u001b[0m \u001b[1;33m=\u001b[0m \u001b[0mcars_raw\u001b[0m\u001b[1;33m[\u001b[0m\u001b[1;33m[\u001b[0m\u001b[0mname\u001b[0m \u001b[1;32mfor\u001b[0m \u001b[0mname\u001b[0m \u001b[1;32min\u001b[0m \u001b[0mcols_to_use\u001b[0m \u001b[1;32mif\u001b[0m \u001b[0mname\u001b[0m \u001b[1;32mnot\u001b[0m \u001b[1;32min\u001b[0m \u001b[0mcols_not_needed\u001b[0m\u001b[1;33m]\u001b[0m\u001b[1;33m]\u001b[0m\u001b[1;33m\u001b[0m\u001b[1;33m\u001b[0m\u001b[0m\n\u001b[0m\u001b[0;32m      2\u001b[0m \u001b[0mcars\u001b[0m \u001b[1;33m=\u001b[0m \u001b[0mcars\u001b[0m\u001b[1;33m.\u001b[0m\u001b[0mdropna\u001b[0m\u001b[1;33m(\u001b[0m\u001b[1;33m)\u001b[0m\u001b[1;33m\u001b[0m\u001b[1;33m\u001b[0m\u001b[0m\n\u001b[0;32m      3\u001b[0m \u001b[0mcars\u001b[0m\u001b[1;33m.\u001b[0m\u001b[0msample\u001b[0m\u001b[1;33m(\u001b[0m\u001b[1;36m10\u001b[0m\u001b[1;33m)\u001b[0m\u001b[1;33m\u001b[0m\u001b[1;33m\u001b[0m\u001b[0m\n",
      "\u001b[1;31mNameError\u001b[0m: name 'cols_to_use' is not defined"
     ]
    }
   ],
   "source": [
    "cars = cars_raw[[name for name in cols_to_use if name not in cols_not_needed]]\n",
    "cars = cars.dropna()\n",
    "cars.sample(10)"
   ]
  },
  {
   "cell_type": "code",
   "execution_count": null,
   "metadata": {},
   "outputs": [],
   "source": [
    "# dataframe shape\n",
    "print(\"Number of rows:\",cars.shape[0])\n",
    "print()\n",
    "print(\"Number of columns\",cars.shape[1])"
   ]
  },
  {
   "cell_type": "markdown",
   "metadata": {},
   "source": [
    "### Description of the variables:\n",
    "\n",
    "Categorical variables:\n",
    "- manufacturer\n",
    "- model\n",
    "- fuel\n",
    "- title_status\n",
    "- transmission\n",
    "- state\n",
    "\n",
    "Numerical variables:\n",
    "- price\n",
    "- year\n",
    "- odometer\n",
    "\n",
    "Location variables:\n",
    "- lat\n",
    "- long\n",
    "\n",
    "Date variables:\n",
    "- year"
   ]
  },
  {
   "cell_type": "markdown",
   "metadata": {},
   "source": [
    "## Preliminary data exploration and further cleaning"
   ]
  },
  {
   "cell_type": "markdown",
   "metadata": {},
   "source": [
    "Firts, lets look at the distribution of the numeric variables : \n",
    "\n",
    "- Median price is \\$10900 while the max value is $4.3 billion!\n",
    "- Medin odometer reading is 93827 mi.\n",
    "- Median year is 2012\n",
    "\n",
    "Here are some more additiona statistics."
   ]
  },
  {
   "cell_type": "code",
   "execution_count": null,
   "metadata": {},
   "outputs": [],
   "source": [
    "cars.describe(percentiles=[0.05,0.1,0.5,0.9,0.95]).transpose()"
   ]
  },
  {
   "cell_type": "markdown",
   "metadata": {},
   "source": [
    "### Price and Odometer\n",
    "\n",
    "Remove vehicles with prices and odometer readings that are slightly more than the 90% percentile and less than the 1% percentile. This will get rid of extreme outliers. "
   ]
  },
  {
   "cell_type": "code",
   "execution_count": null,
   "metadata": {},
   "outputs": [],
   "source": [
    "cars = cars[(cars.price<=30000) & (cars.price>1000) & (cars.odometer<=180000) &  (cars.odometer>=2000)]\n",
    "\n",
    "# dataframe shape\n",
    "print(\"Number of rows:\",cars.shape[0])\n",
    "print()\n",
    "print(\"Number of columns\",cars.shape[1])"
   ]
  },
  {
   "cell_type": "markdown",
   "metadata": {},
   "source": [
    "Let's look at a plot of a joint histogram using exagonal bins of the price with odometer reading: notice the down-ward non-linear nature of of the data."
   ]
  },
  {
   "cell_type": "code",
   "execution_count": null,
   "metadata": {},
   "outputs": [],
   "source": [
    "sns.jointplot(\"odometer\", \"price\", data=cars,size=10,kind = \"hex\");"
   ]
  },
  {
   "cell_type": "markdown",
   "metadata": {},
   "source": [
    "### Transmission\n",
    "\n",
    "A large majority of values in transmission are laballed as  \"other\":"
   ]
  },
  {
   "cell_type": "code",
   "execution_count": null,
   "metadata": {},
   "outputs": [],
   "source": [
    "cars.transmission.value_counts()"
   ]
  },
  {
   "cell_type": "markdown",
   "metadata": {},
   "source": [
    "We'll assume transmission labeled \"other\" is automatic:"
   ]
  },
  {
   "cell_type": "code",
   "execution_count": null,
   "metadata": {},
   "outputs": [],
   "source": [
    "cars['transmission'] = np.where(cars.transmission == \"other\",\"automatic\",cars.transmission)"
   ]
  },
  {
   "cell_type": "markdown",
   "metadata": {},
   "source": [
    "Now let's look at the boxplot of transmission type vs price. Notice that vehicles with an automatic transmission tend to be at slightly higher price:"
   ]
  },
  {
   "cell_type": "code",
   "execution_count": null,
   "metadata": {},
   "outputs": [],
   "source": [
    "plt.figure(figsize=(5,5))\n",
    "sns.boxplot(x='transmission',y='price',data=cars).set_title('Used Cars Dataset: transmission type');"
   ]
  },
  {
   "cell_type": "markdown",
   "metadata": {},
   "source": [
    "### Title Status\n",
    "\n",
    "A very small minority of `title_status` values are either labeled \"missing\" or \"parts only\". So we'll remove those variables from the dataset."
   ]
  },
  {
   "cell_type": "code",
   "execution_count": null,
   "metadata": {},
   "outputs": [],
   "source": [
    "cars.title_status.value_counts()"
   ]
  },
  {
   "cell_type": "code",
   "execution_count": null,
   "metadata": {},
   "outputs": [],
   "source": [
    "# remove 'missing' and 'parts only'\n",
    "keep = ['clean','rebuilt','salvage','lien']\n",
    "cars = cars[cars['title_status'].isin(keep)]\n",
    "# dataframe shape\n",
    "print(\"Number of rows:\",cars.shape[0])\n",
    "print()\n",
    "print(\"Number of columns\",cars.shape[1])"
   ]
  },
  {
   "cell_type": "markdown",
   "metadata": {},
   "source": [
    "Now let's look a the boxplot of title status vs price. Interestingly, vehicles with a lien tend to be higher priced. This could be because those vehicles typically are being sold to pay off creditors (banks, dealerships, etc.)"
   ]
  },
  {
   "cell_type": "code",
   "execution_count": null,
   "metadata": {},
   "outputs": [],
   "source": [
    "plt.figure(figsize=(10,5))\n",
    "sns.boxplot(x='title_status',y='price',data=cars).set_title('Used Cars Dataset: status title');"
   ]
  },
  {
   "cell_type": "markdown",
   "metadata": {},
   "source": [
    "### Fuel Type\n",
    "\n",
    "Let's take a look at the distribution of prices by fuel type:"
   ]
  },
  {
   "cell_type": "code",
   "execution_count": null,
   "metadata": {},
   "outputs": [],
   "source": [
    "plt.figure(figsize=(10,5))\n",
    "sns.set_style(\"whitegrid\")\n",
    "sns.boxplot(x='fuel',y='price',data=cars).set_title('Used Cars Dataset: fuel type');"
   ]
  },
  {
   "cell_type": "markdown",
   "metadata": {},
   "source": [
    "Vehicles with fuel type as  \"other\" can be removed from the analysis since it would be difficult to identify the fuel to for those:"
   ]
  },
  {
   "cell_type": "code",
   "execution_count": null,
   "metadata": {},
   "outputs": [],
   "source": [
    "cars.fuel.value_counts()"
   ]
  },
  {
   "cell_type": "code",
   "execution_count": null,
   "metadata": {},
   "outputs": [],
   "source": [
    "cars = cars[~cars['fuel'].isin(['other'])]\n",
    "# dataframe shape\n",
    "print(\"Number of rows:\",cars.shape[0])\n",
    "print()\n",
    "print(\"Number of columns\",cars.shape[1])"
   ]
  },
  {
   "cell_type": "markdown",
   "metadata": {},
   "source": [
    "### Year\n",
    "\n",
    "Lets see the number of vehicles grouped by year on a line plot: notice that most vehicles have years between the late 90's and early 2020."
   ]
  },
  {
   "cell_type": "code",
   "execution_count": null,
   "metadata": {},
   "outputs": [],
   "source": [
    "grouped_by_year = cars.groupby('year').count().reset_index()\n",
    "plt.figure(figsize=(10,5))\n",
    "sns.lineplot(x='year',y='price',data=grouped_by_year).set_title('Used Cars Dataset : number of listings for each year');"
   ]
  },
  {
   "cell_type": "markdown",
   "metadata": {},
   "source": [
    "For this analysis we'll look at listings between 1999 and 2019:"
   ]
  },
  {
   "cell_type": "code",
   "execution_count": null,
   "metadata": {},
   "outputs": [],
   "source": [
    "cars = cars[(cars.year>=1999) & (cars.year<=2019)]\n",
    "# dataframe shape\n",
    "print(\"Number of rows:\",cars.shape[0])\n",
    "print()\n",
    "print(\"Number of columns\",cars.shape[1])"
   ]
  },
  {
   "cell_type": "markdown",
   "metadata": {},
   "source": [
    "### Manufacturer and Model Type\n",
    "\n",
    "Now let's look at the distribution of manufacturer and model type. \n",
    "\n",
    "First, we'll look at the counts of model that occurs at least 1000 times in the dataset. "
   ]
  },
  {
   "cell_type": "code",
   "execution_count": null,
   "metadata": {},
   "outputs": [],
   "source": [
    "model_count = pd.DataFrame(cars['model'].value_counts().reset_index())\n",
    "\n",
    "model_count = model_count[model_count.model>500] # filter above certain value\n",
    "\n",
    "print(\"Total number of unique models that occur at least 500 times:\",len(model_count))"
   ]
  },
  {
   "cell_type": "code",
   "execution_count": null,
   "metadata": {},
   "outputs": [],
   "source": [
    "plt.figure(figsize=(10,15))\n",
    "fig = sns.barplot(x='model',y=\"index\",data=model_count);\n",
    "fig.set(xlabel=\"Number of occurences\",ylabel=\"Model\",title=\"Number of Occurrences by Model\");"
   ]
  },
  {
   "cell_type": "markdown",
   "metadata": {},
   "source": [
    "Now we'll look at the number of occurences by manufacturer"
   ]
  },
  {
   "cell_type": "code",
   "execution_count": null,
   "metadata": {},
   "outputs": [],
   "source": [
    "manf_count = pd.DataFrame(cars['manufacturer'].value_counts().reset_index())\n",
    "print(\"Total number of occurences for each manufacturer:\",len(model_count))"
   ]
  },
  {
   "cell_type": "code",
   "execution_count": null,
   "metadata": {},
   "outputs": [],
   "source": [
    "plt.figure(figsize=(10,10))\n",
    "fig = sns.barplot(x='manufacturer',y=\"index\",data=manf_count);\n",
    "fig.set(xlabel=\"Number of occurences\",ylabel=\"Manufacturer\",title=\"Number of Occurrences by Manufacturer\");"
   ]
  },
  {
   "cell_type": "markdown",
   "metadata": {},
   "source": [
    "Based on these two last plots, we'll remove the values of the dataset that have  `model` occurences of at less than 100 times and `manufacturer` occurences of at least 10 times."
   ]
  },
  {
   "cell_type": "code",
   "execution_count": null,
   "metadata": {},
   "outputs": [],
   "source": [
    "temp = cars.groupby('model').filter(lambda x: len(x)>100)"
   ]
  },
  {
   "cell_type": "code",
   "execution_count": null,
   "metadata": {},
   "outputs": [],
   "source": [
    "temp"
   ]
  },
  {
   "cell_type": "code",
   "execution_count": null,
   "metadata": {},
   "outputs": [],
   "source": [
    "temp_count = pd.DataFrame(temp['model'].value_counts().reset_index())\n",
    "temp_count"
   ]
  },
  {
   "cell_type": "code",
   "execution_count": null,
   "metadata": {},
   "outputs": [],
   "source": [
    "plt.figure(figsize=(10,15))\n",
    "fig = sns.barplot(x='model',y=\"index\",data=temp_count);"
   ]
  }
 ],
 "metadata": {
  "language_info": {
   "codemirror_mode": {
    "name": "ipython",
    "version": 3
   },
   "file_extension": ".py",
   "mimetype": "text/x-python",
   "name": "python",
   "nbconvert_exporter": "python",
   "pygments_lexer": "ipython3",
   "version": "3.7.7-final"
  },
  "orig_nbformat": 2,
  "kernelspec": {
   "name": "python37764bitedxenvsconda43a01fd598dd4b33a116888232f426a3",
   "display_name": "Python 3.7.7 64-bit ('edx_envs': conda)"
  }
 },
 "nbformat": 4,
 "nbformat_minor": 2
}