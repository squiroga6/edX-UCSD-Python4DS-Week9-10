{
 "cells": [
  {
   "cell_type": "markdown",
   "metadata": {},
   "source": [
    "# UC SD Micromasters - Python for Data Science\n",
    "# Craigslist Used Cars Dataset"
   ]
  },
  {
   "cell_type": "code",
   "execution_count": null,
   "metadata": {},
   "outputs": [],
   "source": [
    "# import required libraries\n",
    "import pandas as pd\n",
    "import numpy as np\n",
    "import seaborn as sns\n",
    "import matplotlib.pyplot as plt"
   ]
  },
  {
   "cell_type": "markdown",
   "metadata": {},
   "source": [
    "## Import and read dataset"
   ]
  },
  {
   "cell_type": "code",
   "execution_count": null,
   "metadata": {},
   "outputs": [],
   "source": [
    "# First, look at downloaded file from https://www.kaggle.com/austinreese/craigslist-carstrucks-data/download.\n",
    "from subprocess import check_output\n",
    "print(check_output([\"ls\", \"./data\"]).decode(\"utf8\"))"
   ]
  },
  {
   "cell_type": "code",
   "execution_count": null,
   "metadata": {},
   "outputs": [],
   "source": [
    "# how to from https://www.kaggle.com/mchirico/how-to-read-datasets\n",
    "# unzip file\n",
    "import zipfile\n",
    "Dataset = \"craigslist-carstrucks-data\"\n",
    "\n",
    "# Will unzip the files so that you can see them..\n",
    "with zipfile.ZipFile(\"./data/\"+Dataset+\".zip\",\"r\") as z:\n",
    "    z.extractall(\"./data\")"
   ]
  },
  {
   "cell_type": "code",
   "execution_count": null,
   "metadata": {},
   "outputs": [],
   "source": [
    "# import data as pandas dataframe\n",
    "cars_raw = pd.read_csv(\"./data/vehicles.csv\")"
   ]
  },
  {
   "cell_type": "code",
   "execution_count": null,
   "metadata": {},
   "outputs": [],
   "source": [
    "# dataframe shape\n",
    "print(\"Number of rows:\",cars_raw.shape[0])\n",
    "print()\n",
    "print(\"Number of columns\",cars_raw.shape[1])"
   ]
  },
  {
   "cell_type": "markdown",
   "metadata": {},
   "source": [
    "## Clean data set"
   ]
  },
  {
   "cell_type": "code",
   "execution_count": null,
   "metadata": {},
   "outputs": [],
   "source": [
    "# portion of null values as percent of total number of rows\n",
    "no_null_prc = (cars_raw.count()/len(cars_raw)).round(2)*100\n",
    "no_null_prc"
   ]
  },
  {
   "cell_type": "code",
   "execution_count": null,
   "metadata": {},
   "outputs": [],
   "source": [
    "# select columns of interest that require further analysis\n",
    "cols_to_use = list(no_null_prc[no_null_prc>=80].index)\n",
    "cols_to_use"
   ]
  },
  {
   "cell_type": "code",
   "execution_count": null,
   "metadata": {},
   "outputs": [],
   "source": [
    "cols_not_needed = list(cars_raw.columns[0:4])\n",
    "cols_not_needed.extend(['description','image_url'])\n",
    "cols_not_needed"
   ]
  },
  {
   "cell_type": "code",
   "execution_count": null,
   "metadata": {},
   "outputs": [],
   "source": [
    "cars = cars_raw[[name for name in cols_to_use if name not in cols_not_needed]]\n",
    "cars = cars.dropna()\n",
    "cars.sample(10)"
   ]
  },
  {
   "cell_type": "markdown",
   "metadata": {},
   "source": [
    "## Exploratory Data Analysis"
   ]
  },
  {
   "cell_type": "code",
   "execution_count": null,
   "metadata": {},
   "outputs": [],
   "source": [
    "# distribution of price : mean vale is $19,500 ; max value is $4.3 billion!\n",
    "cars.describe(percentiles=[0.25,0.5,0.75,0.9]).transpose()"
   ]
  },
  {
   "cell_type": "code",
   "execution_count": null,
   "metadata": {},
   "outputs": [],
   "source": [
    "# remove vehicles with high prices\n",
    "cars = cars[(cars.price<=30000) & (cars.odometer<=180000)]"
   ]
  },
  {
   "cell_type": "code",
   "execution_count": null,
   "metadata": {},
   "outputs": [],
   "source": [
    "# box plot of price\n",
    "sns.boxplot(cars.price);"
   ]
  },
  {
   "cell_type": "code",
   "execution_count": null,
   "metadata": {},
   "outputs": [],
   "source": [
    "# there are 36189 vehicles with prices = 0. could impact modelling later on\n",
    "len(cars[cars.price == 0])"
   ]
  },
  {
   "cell_type": "code",
   "execution_count": null,
   "metadata": {},
   "outputs": [],
   "source": [
    "# remove data with prices = 0\n",
    "cars = cars[cars.price>0]"
   ]
  },
  {
   "cell_type": "code",
   "execution_count": null,
   "metadata": {},
   "outputs": [],
   "source": [
    "# box plot of odometer\n",
    "sns.boxplot(cars.odometer);"
   ]
  },
  {
   "cell_type": "code",
   "execution_count": null,
   "metadata": {},
   "outputs": [],
   "source": [
    "# a large majority of values in transmission are laballed as  \"other\"\n",
    "cars.transmission.value_counts()"
   ]
  },
  {
   "cell_type": "code",
   "execution_count": null,
   "metadata": {},
   "outputs": [],
   "source": [
    "# assume transmission labeled \"other\" is automatic\n",
    "cars['transmission'] = np.where(cars.transmission == \"other\",\"automatic\",cars.transmission)"
   ]
  },
  {
   "cell_type": "code",
   "execution_count": null,
   "metadata": {},
   "outputs": [],
   "source": [
    "# large majority of `title_status` values are either \"clean\" or \"rebuilt\" or \"salvage\" or \"lien\"\n",
    "cars.title_status.value_counts()"
   ]
  },
  {
   "cell_type": "code",
   "execution_count": null,
   "metadata": {},
   "outputs": [],
   "source": [
    "# remove 'missing' and 'parts only'\n",
    "keep = ['clean','rebuilt','salvage','lien']\n",
    "cars = cars[cars['title_status'].isin(keep)]"
   ]
  },
  {
   "cell_type": "code",
   "execution_count": null,
   "metadata": {},
   "outputs": [],
   "source": [
    "sns.boxplot(x='fuel',y='price',data=cars).set_title('Used Cars Dataset: fuel type');"
   ]
  },
  {
   "cell_type": "code",
   "execution_count": null,
   "metadata": {},
   "outputs": [],
   "source": [
    "# vehicles with fuel type as  \"other\" can be removed from the analysis\n",
    "cars.fuel.value_counts()"
   ]
  },
  {
   "cell_type": "code",
   "execution_count": null,
   "metadata": {},
   "outputs": [],
   "source": [
    "# look at data between 1990 and 2019\n",
    "grouped_by_year = cars.groupby('year').count().reset_index()\n",
    "sns.lineplot(x='year',y='price',data=grouped_by_year).set_title('Used Cars Dataset : number of listings vs. time');"
   ]
  },
  {
   "cell_type": "code",
   "execution_count": null,
   "metadata": {},
   "outputs": [],
   "source": [
    "# keep listings between 1999 and 2019\n",
    "cars = cars[(cars.year>=1999) & (cars.year<=2019)]"
   ]
  },
  {
   "cell_type": "code",
   "execution_count": null,
   "metadata": {},
   "outputs": [],
   "source": [
    "# vehicles with an automatic transmission tend to be at slightly higher price\n",
    "sns.boxplot(x='transmission',y='price',data=cars).set_title('Used Cars Dataset: transmission type');"
   ]
  },
  {
   "cell_type": "code",
   "execution_count": null,
   "metadata": {},
   "outputs": [],
   "source": [
    "# interestingly, vehicles with a lien tend to be higher priced\n",
    "sns.boxplot(x='title_status',y='price',data=cars).set_title('Used Cars Dataset: status title');"
   ]
  },
  {
   "cell_type": "code",
   "execution_count": null,
   "metadata": {},
   "outputs": [],
   "source": []
  }
 ],
 "metadata": {
  "language_info": {
   "codemirror_mode": {
    "name": "ipython",
    "version": 3
   },
   "file_extension": ".py",
   "mimetype": "text/x-python",
   "name": "python",
   "nbconvert_exporter": "python",
   "pygments_lexer": "ipython3",
   "version": "3.7.7-final"
  },
  "orig_nbformat": 2,
  "kernelspec": {
   "name": "python37764bitedxenvsconda43a01fd598dd4b33a116888232f426a3",
   "display_name": "Python 3.7.7 64-bit ('edx_envs': conda)"
  }
 },
 "nbformat": 4,
 "nbformat_minor": 2
}